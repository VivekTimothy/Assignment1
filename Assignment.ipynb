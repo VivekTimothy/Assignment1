{
 "cells": [
  {
   "cell_type": "markdown",
   "id": "e0b184ff",
   "metadata": {},
   "source": [
    "<h1> My Jupyter Notebook on IBM Watson Studio <h1?"
   ]
  },
  {
   "cell_type": "markdown",
   "id": "da6585cd",
   "metadata": {},
   "source": [
    "<b> Vivek Timothy </b>"
   ]
  },
  {
   "cell_type": "markdown",
   "id": "aab514f9",
   "metadata": {},
   "source": [
    " <i> Iam Interested in Data Science because it's a vast skills which requires knowledge on multiple tools, techniques and algorithms which including data exploration, visualization, Building models using Machine Learning/Deep Learning Algorithms etc. As Data is everywhere and essential for a company,I want to pursue Data Science which is very valuable technology to learn now and in future </i>"
   ]
  },
  {
   "cell_type": "markdown",
   "id": "f32902e5",
   "metadata": {},
   "source": [
    "<h3> This code is used to determine if the given number is odd or even <h3>"
   ]
  },
  {
   "cell_type": "code",
   "execution_count": 3,
   "id": "2351432c",
   "metadata": {},
   "outputs": [
    {
     "name": "stdout",
     "output_type": "stream",
     "text": [
      "Even\n"
     ]
    }
   ],
   "source": [
    "x=4\n",
    "if(x%2==0):\n",
    "    print(\"Even\")\n",
    "else:\n",
    "    print(\"Odd\")"
   ]
  },
  {
   "cell_type": "markdown",
   "id": "813f244c",
   "metadata": {},
   "source": [
    "<hr>\n",
    "   <p> List of my Favorite Footballers and Cricketers </p>\n",
    "</hr>\n",
    "\n",
    "<ul>\n",
    "<li> Messi </li>\n",
    "<li> Martinez </li>\n",
    "<li> Alvarez </li>\n",
    "</ul>\n",
    "\n",
    "<ol>\n",
    "    <li> Smith </li>\n",
    "    <li> Kane </li>\n",
    "    <li> Starc </li>\n",
    "</ol>\n",
    "\n",
    "<table>\n",
    "  <tr>\n",
    "    <th>Messi</th>\n",
    "    <th>Martinez</th>\n",
    "    <th>Alvarez</th>\n",
    "  </tr>\n",
    "  <tr>\n",
    "    <td>Smith</td>\n",
    "    <td>Kane</td>\n",
    "    <td>Starc</td>\n",
    "  </tr>\n",
    "</table>\n",
    "\n",
    "\n",
    "\n"
   ]
  },
  {
   "cell_type": "code",
   "execution_count": null,
   "id": "ab1f616c",
   "metadata": {},
   "outputs": [],
   "source": []
  }
 ],
 "metadata": {
  "kernelspec": {
   "display_name": "Python 3 (ipykernel)",
   "language": "python",
   "name": "python3"
  },
  "language_info": {
   "codemirror_mode": {
    "name": "ipython",
    "version": 3
   },
   "file_extension": ".py",
   "mimetype": "text/x-python",
   "name": "python",
   "nbconvert_exporter": "python",
   "pygments_lexer": "ipython3",
   "version": "3.9.13"
  }
 },
 "nbformat": 4,
 "nbformat_minor": 5
}
